{
 "cells": [
  {
   "cell_type": "code",
   "execution_count": 15,
   "metadata": {},
   "outputs": [
    {
     "name": "stdout",
     "output_type": "stream",
     "text": [
      "2\n"
     ]
    },
    {
     "ename": "NameError",
     "evalue": "name 'k' is not defined",
     "output_type": "error",
     "traceback": [
      "\u001b[1;31m---------------------------------------------------------------------------\u001b[0m",
      "\u001b[1;31mNameError\u001b[0m                                 Traceback (most recent call last)",
      "\u001b[1;32m<ipython-input-15-63230b05a7da>\u001b[0m in \u001b[0;36m<module>\u001b[1;34m()\u001b[0m\n\u001b[0;32m     45\u001b[0m         \u001b[0mM\u001b[0m\u001b[1;33m=\u001b[0m\u001b[1;33m(\u001b[0m\u001b[0mGamma_for_stolp\u001b[0m\u001b[1;33m(\u001b[0m\u001b[0mindices\u001b[0m\u001b[1;33m,\u001b[0m \u001b[0my\u001b[0m\u001b[1;33m,\u001b[0m \u001b[0mi\u001b[0m\u001b[1;33m,\u001b[0m \u001b[0mk\u001b[0m\u001b[1;33m)\u001b[0m\u001b[1;33m)\u001b[0m\u001b[1;33m-\u001b[0m\u001b[0mmax\u001b[0m\u001b[1;33m(\u001b[0m\u001b[0mGamma_for_stolp\u001b[0m\u001b[1;33m(\u001b[0m\u001b[0mindices\u001b[0m\u001b[1;33m,\u001b[0m \u001b[0my\u001b[0m\u001b[1;33m,\u001b[0m \u001b[0mi\u001b[0m\u001b[1;33m,\u001b[0m \u001b[0mk\u001b[0m\u001b[1;33m)\u001b[0m\u001b[1;33m)\u001b[0m\u001b[1;33m\u001b[0m\u001b[0m\n\u001b[0;32m     46\u001b[0m         \u001b[0mprint\u001b[0m \u001b[1;33m(\u001b[0m\u001b[0mM\u001b[0m\u001b[1;33m)\u001b[0m\u001b[1;33m\u001b[0m\u001b[0m\n\u001b[1;32m---> 47\u001b[1;33m \u001b[0mprint\u001b[0m\u001b[1;33m(\u001b[0m\u001b[0mM\u001b[0m\u001b[1;33m(\u001b[0m\u001b[0mindices\u001b[0m\u001b[1;33m,\u001b[0m \u001b[0my\u001b[0m\u001b[1;33m,\u001b[0m \u001b[0mi\u001b[0m\u001b[1;33m,\u001b[0m \u001b[0mk\u001b[0m\u001b[1;33m)\u001b[0m\u001b[1;33m)\u001b[0m\u001b[1;33m\u001b[0m\u001b[0m\n\u001b[0m\u001b[0;32m     48\u001b[0m \u001b[1;33m\u001b[0m\u001b[0m\n",
      "\u001b[1;31mNameError\u001b[0m: name 'k' is not defined"
     ]
    }
   ],
   "source": [
    "# -*- coding: utf-8 -*-\n",
    "\"\"\"\n",
    "Created on Tue Jul  2 18:41:16 2019\n",
    "@author: Dmitry\n",
    "\"\"\"\n",
    "\n",
    "\n",
    "import numpy as np\n",
    "from scipy.spatial import distance_matrix\n",
    " \n",
    "X = [[-1,   -1    ],\n",
    "     [0,    0     ],\n",
    "     [-1,   0     ],\n",
    "     [0,    -1    ],\n",
    "     [2,    2     ],\n",
    "     [2,    3     ],\n",
    "     [3,    3     ]]\n",
    "X = np.array(X) # точки\n",
    "\n",
    "y = [-1, -1, -1, -1, 1, 1, 1]\n",
    "y = np.array(y) # классы, соответствующие точкам\n",
    "\n",
    "unique = np.unique(y) # виды классов\n",
    "\n",
    "dist = distance_matrix(X, X) # матрица всех расстояний\n",
    "\n",
    "indices = [] # для каждого объекта будет хранить индексы ближайших соседей по порядку\n",
    "\n",
    "for row in dist:\n",
    "    sorted_dist = sorted(range(len(row)), key=lambda k: row[k])\n",
    "    indices.append(sorted_dist)\n",
    "    \n",
    "indices = np.array(indices)\n",
    "\n",
    "def Gamma_for_stolp(indices, y, i, k): # функция Г, но только для объектов, которые есть в выборке X\n",
    "    s = 0\n",
    "    for j in range(1, k+1):\n",
    "        s += y[indices[i, j]] == y[i]\n",
    "    return s\n",
    "        \n",
    "print(Gamma_for_stolp(indices, y, 4, 3))\n",
    "\n",
    "for i in range(len(X)):\n",
    "    M=(Gamma_for_stolp(indices, y, 4, 3))-max(Gamma_for_stolp(indices, y, i, k))\n",
    "    print (M)\n",
    "    "
   ]
  }
 ],
 "metadata": {
  "kernelspec": {
   "display_name": "Python 3",
   "language": "python",
   "name": "python3"
  },
  "language_info": {
   "codemirror_mode": {
    "name": "ipython",
    "version": 3
   },
   "file_extension": ".py",
   "mimetype": "text/x-python",
   "name": "python",
   "nbconvert_exporter": "python",
   "pygments_lexer": "ipython3",
   "version": "3.7.0"
  }
 },
 "nbformat": 4,
 "nbformat_minor": 2
}
